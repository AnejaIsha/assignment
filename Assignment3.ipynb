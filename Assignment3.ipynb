{
 "cells": [
  {
   "cell_type": "markdown",
   "id": "67e96ce4",
   "metadata": {},
   "source": [
    "# Problem 1.1"
   ]
  },
  {
   "cell_type": "code",
   "execution_count": 13,
   "id": "0efb98bb",
   "metadata": {},
   "outputs": [
    {
     "data": {
      "text/plain": [
       "6"
      ]
     },
     "execution_count": 13,
     "metadata": {},
     "output_type": "execute_result"
    }
   ],
   "source": [
    "def myreduce(func,mylist):\n",
    "    return func(mylist)\n",
    "  \n",
    "def myfunc(mylist) :\n",
    "    return sum(mylist)\n",
    "\n",
    "\n",
    "myreduce(max,[1,2,3])    \n",
    "myreduce(myfunc,[1,2,3])   \n",
    "        \n",
    "        \n",
    "        "
   ]
  },
  {
   "cell_type": "markdown",
   "id": "30e4c993",
   "metadata": {},
   "source": [
    "# Problem  1.2"
   ]
  },
  {
   "cell_type": "code",
   "execution_count": 15,
   "id": "09f676ad",
   "metadata": {},
   "outputs": [
    {
     "data": {
      "text/plain": [
       "[2]"
      ]
     },
     "execution_count": 15,
     "metadata": {},
     "output_type": "execute_result"
    }
   ],
   "source": [
    "def myfilter(func,mylist):\n",
    "    return func(mylist)\n",
    "def isEven(mylist) :\n",
    "    l = [i for i in mylist if i % 2 == 0]\n",
    "    return l\n",
    "    \n",
    "  \n",
    "\n",
    "myreduce(isEven,[1,2,3]) "
   ]
  },
  {
   "cell_type": "markdown",
   "id": "47074672",
   "metadata": {},
   "source": [
    "# Problem 2"
   ]
  },
  {
   "cell_type": "code",
   "execution_count": 20,
   "id": "c0b32757",
   "metadata": {},
   "outputs": [
    {
     "data": {
      "text/plain": [
       "['x', 'xx', 'xxx', 'xxxx', 'y', 'yy', 'yyy', 'yyyy', 'z', 'zz', 'zzz', 'zzzz']"
      ]
     },
     "execution_count": 20,
     "metadata": {},
     "output_type": "execute_result"
    }
   ],
   "source": [
    "mylist = ['x','y','z']\n",
    "\n",
    "    \n",
    "l = [ mylist[i]  + j   * mylist[i] for i in range(0,len(mylist)) for j in range(0,4)]\n",
    "l"
   ]
  },
  {
   "cell_type": "code",
   "execution_count": 24,
   "id": "0d0472be",
   "metadata": {},
   "outputs": [
    {
     "data": {
      "text/plain": [
       "['x', 'xx', 'xxx', 'xxxx', 'y', 'yy', 'yyy', 'yyyy', 'z', 'zz', 'zzz', 'zzzz']"
      ]
     },
     "execution_count": 24,
     "metadata": {},
     "output_type": "execute_result"
    }
   ],
   "source": [
    "mylist = ['x','y','z']\n",
    "\n",
    "    \n",
    "l = [ mylist[i]  * j  for i in range(0,len(mylist)) for j in range(1,5) ]\n",
    "l"
   ]
  },
  {
   "cell_type": "code",
   "execution_count": 124,
   "id": "c5940c2b",
   "metadata": {},
   "outputs": [
    {
     "data": {
      "text/plain": [
       "[[[2], [3], [4], [5], [6]],\n",
       " [[2, 3, 4, 5], [3, 4, 5, 6], [4, 5, 6, 7], [5, 6, 7, 8]]]"
      ]
     },
     "execution_count": 124,
     "metadata": {},
     "output_type": "execute_result"
    }
   ],
   "source": [
    "\n",
    "\n",
    "l1 = list(range(2,9))\n",
    "l = [[[l1[i]] for i in range(0,5)] ]\n",
    "    \n",
    "l2 = [[ l1[i:i+4] for i in range(0,4) ]  ]\n",
    "l.extend(l2)\n",
    "\n",
    "l"
   ]
  },
  {
   "cell_type": "code",
   "execution_count": 131,
   "id": "def806c1",
   "metadata": {},
   "outputs": [
    {
     "data": {
      "text/plain": [
       "[(1, 1), (1, 2), (1, 3), (2, 1), (2, 2), (2, 3), (3, 1), (3, 2), (3, 3)]"
      ]
     },
     "execution_count": 131,
     "metadata": {},
     "output_type": "execute_result"
    }
   ],
   "source": [
    "\n",
    "t = [(i,j) for i in range(1,4) for j in range(1,4)]\n",
    "t"
   ]
  },
  {
   "cell_type": "code",
   "execution_count": null,
   "id": "2e2f1ae3",
   "metadata": {},
   "outputs": [],
   "source": []
  },
  {
   "cell_type": "code",
   "execution_count": null,
   "id": "b4aff6d2",
   "metadata": {},
   "outputs": [],
   "source": []
  }
 ],
 "metadata": {
  "kernelspec": {
   "display_name": "Python 3",
   "language": "python",
   "name": "python3"
  },
  "language_info": {
   "codemirror_mode": {
    "name": "ipython",
    "version": 3
   },
   "file_extension": ".py",
   "mimetype": "text/x-python",
   "name": "python",
   "nbconvert_exporter": "python",
   "pygments_lexer": "ipython3",
   "version": "3.8.8"
  }
 },
 "nbformat": 4,
 "nbformat_minor": 5
}
