{
 "cells": [
  {
   "cell_type": "markdown",
   "id": "11f33e3e",
   "metadata": {},
   "source": [
    "# Problem1 Vandermonde."
   ]
  },
  {
   "cell_type": "code",
   "execution_count": 17,
   "id": "e5d28268",
   "metadata": {},
   "outputs": [
    {
     "name": "stdout",
     "output_type": "stream",
     "text": [
      "[[ 1  1  1]\n",
      " [ 1  2  4]\n",
      " [ 1  3  9]\n",
      " [ 1  4 16]\n",
      " [ 1  5 25]]\n",
      "[[ 1  1  1]\n",
      " [ 4  2  1]\n",
      " [ 9  3  1]\n",
      " [16  4  1]\n",
      " [25  5  1]]\n"
     ]
    }
   ],
   "source": [
    "import numpy as np\n",
    "def vanderonde_matrix(input_vector,n,order = False):\n",
    "    if order == True:\n",
    "        out = np.array([x ** i for x in input_vector for i in range(n)]).reshape(len(input_vector),n)\n",
    "        \n",
    "    elif order == False :\n",
    "        out = np.array([x ** (n-1-i) for x in input_vector for i in range(n)]).reshape(len(input_vector),n)\n",
    "       \n",
    "              \n",
    "        \n",
    "    return out\n",
    "        \n",
    "input_vector = [1,2,3,4,5]\n",
    "n=3\n",
    "        \n",
    "print(vanderonde_matrix(input_vector,n,True) )    \n",
    "print(vanderonde_matrix(input_vector,n,False) ) "
   ]
  },
  {
   "cell_type": "markdown",
   "id": "8e999a47",
   "metadata": {},
   "source": [
    "#  Problem 2 Moving Average"
   ]
  },
  {
   "cell_type": "code",
   "execution_count": 18,
   "id": "42c6dd5b",
   "metadata": {},
   "outputs": [
    {
     "name": "stdout",
     "output_type": "stream",
     "text": [
      "[  5.           4.66666667   5.66666667   6.66666667   9.66666667\n",
      "  28.66666667  49.33333333  72.66666667  84.          93.33333333\n",
      " 116.33333333]\n"
     ]
    }
   ],
   "source": [
    "\n",
    "def moving_average(x, w):\n",
    "    return np.convolve(x, np.ones(w), 'valid') / w\n",
    "\n",
    "data = np.array( [3, 5, 7, 2, 8, 10, 11, 65, 72, 81, 99, 100, 150])\n",
    "\n",
    "print(moving_average(data,3))"
   ]
  },
  {
   "cell_type": "code",
   "execution_count": 24,
   "id": "fa7de1ef",
   "metadata": {},
   "outputs": [
    {
     "name": "stdout",
     "output_type": "stream",
     "text": [
      "[  5.           4.66666667   5.66666667   6.66666667   9.66666667\n",
      "  28.66666667  49.33333333  72.66666667  84.          93.33333333\n",
      " 116.33333333]\n"
     ]
    }
   ],
   "source": [
    "def moving_average(x, w):\n",
    "    return np.array([sum(x[i:i+3])/3 for i in range(len(x)) if len(x[i:i+3]) == 3])\n",
    "\n",
    "\n",
    "data = [3, 5, 7, 2, 8, 10, 11, 65, 72, 81, 99, 100, 150]\n",
    "\n",
    "print(moving_average(data,3))"
   ]
  },
  {
   "cell_type": "code",
   "execution_count": null,
   "id": "6ed4a0dd",
   "metadata": {},
   "outputs": [],
   "source": []
  }
 ],
 "metadata": {
  "kernelspec": {
   "display_name": "Python 3",
   "language": "python",
   "name": "python3"
  },
  "language_info": {
   "codemirror_mode": {
    "name": "ipython",
    "version": 3
   },
   "file_extension": ".py",
   "mimetype": "text/x-python",
   "name": "python",
   "nbconvert_exporter": "python",
   "pygments_lexer": "ipython3",
   "version": "3.8.8"
  }
 },
 "nbformat": 4,
 "nbformat_minor": 5
}
