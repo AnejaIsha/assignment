{
 "cells": [
  {
   "cell_type": "markdown",
   "id": "9fc9e82c",
   "metadata": {},
   "source": [
    "Problem Statement 1:\n",
    "The marks awarded for an assignment set for a Year 8 class of 20 students were as\n",
    "follows:\n",
    "6 7 5 7 7 8 7 6 9 7 4 10 6 8 8 9 5 6 4 8"
   ]
  },
  {
   "cell_type": "code",
   "execution_count": 7,
   "id": "e1b19104",
   "metadata": {},
   "outputs": [
    {
     "name": "stdout",
     "output_type": "stream",
     "text": [
      "Mean  6.85\n",
      "Median 7.0\n",
      "Mode of given data set is 7\n"
     ]
    }
   ],
   "source": [
    "import numpy\n",
    "import statistics\n",
    "\n",
    "marks = [6, 7 ,5 ,7, 7, 8, 7, 6, 9, 7, 4, 10, 6, 8, 8, 9, 5, 6, 4 ,8]\n",
    "\n",
    "x = numpy.mean(marks)\n",
    "y = numpy.median(marks)\n",
    "\n",
    "\n",
    "print('Mean ' , x)\n",
    "print('Median' , y)\n",
    "print(\"Mode of given data set is % s\" % (statistics.mode(marks)))\n"
   ]
  },
  {
   "cell_type": "markdown",
   "id": "4dddc29a",
   "metadata": {},
   "source": [
    "Problem Statement 2:\n",
    "The number of calls from motorists per day for roadside service was recorded for a\n",
    "particular month:\n",
    "28, 122, 217, 130, 120, 86, 80, 90, 140, 120, 70, 40, 145, 113, 90, 68, 174, 194, 170,\n",
    "100, 75, 104, 97, 75,\n",
    "123, 100, 75, 104, 97, 75, 123, 100, 89, 120, 109"
   ]
  },
  {
   "cell_type": "code",
   "execution_count": 9,
   "id": "5c0853b8",
   "metadata": {},
   "outputs": [
    {
     "name": "stdout",
     "output_type": "stream",
     "text": [
      "Mean  107.51428571428572\n",
      "Median 100.0\n",
      "Mode of given data set is 75\n"
     ]
    }
   ],
   "source": [
    "calls = [28, 122, 217, 130, 120, 86, 80, 90, 140, 120, 70, 40, 145, 113, 90, 68, 174, 194, 170, 100, 75, 104, 97, 75, 123, 100, 75, 104, 97, 75, 123, 100, 89, 120, 109]\n",
    "\n",
    "x = numpy.mean(calls)\n",
    "y = numpy.median(calls)\n",
    "\n",
    "\n",
    "print('Mean ' , x)\n",
    "print('Median' ,y)\n",
    "print(\"Mode of given data set is % s\" % (statistics.mode(calls)))"
   ]
  },
  {
   "cell_type": "markdown",
   "id": "f6bd5338",
   "metadata": {},
   "source": [
    "The number of times I go to the gym in weekdays, are given below along with its\n",
    "associated probability:\n",
    "x = 0, 1, 2, 3, 4, 5\n",
    "f(x) = 0.09, 0.15, 0.40, 0.25, 0.10, 0.01\n",
    "Calculate the mean no. of workouts in a week. Also evaluate the variance involved in\n",
    "it."
   ]
  },
  {
   "cell_type": "code",
   "execution_count": 13,
   "id": "4258d1f1",
   "metadata": {},
   "outputs": [
    {
     "name": "stdout",
     "output_type": "stream",
     "text": [
      "1st Input array :  [0 1 2 3 4 5]\n",
      "2nd Input array :  [0.09 0.15 0.4  0.25 0.1  0.01]\n",
      "Resultant output array:  [0.   0.15 0.8  0.75 0.4  0.05]\n",
      "meean:  0.35833333333333334\n",
      "Variance of Sample1 is 0.12341666666666667 \n"
     ]
    }
   ],
   "source": [
    "from statistics import variance\n",
    "x = [0, 1, 2, 3, 4, 5]\n",
    "f_x = [0.09, 0.15, 0.40, 0.25, 0.10, 0.01]\n",
    "import numpy as np\n",
    "  \n",
    "in_arr1 = np.array(x)\n",
    "in_arr2 = np.array(f_x)\n",
    "   \n",
    "print (\"1st Input array : \", in_arr1)\n",
    "print (\"2nd Input array : \", in_arr2)\n",
    "   \n",
    "    \n",
    "out_arr = np.multiply(in_arr1, in_arr2) \n",
    "print (\"Resultant output array: \", out_arr) \n",
    "print (\"meean: \", np.mean(out_arr))\n",
    "print(\"Variance of Sample1 is % s \" %(variance(out_arr)))"
   ]
  },
  {
   "cell_type": "code",
   "execution_count": null,
   "id": "978a8fc7",
   "metadata": {},
   "outputs": [],
   "source": []
  }
 ],
 "metadata": {
  "kernelspec": {
   "display_name": "Python 3",
   "language": "python",
   "name": "python3"
  },
  "language_info": {
   "codemirror_mode": {
    "name": "ipython",
    "version": 3
   },
   "file_extension": ".py",
   "mimetype": "text/x-python",
   "name": "python",
   "nbconvert_exporter": "python",
   "pygments_lexer": "ipython3",
   "version": "3.8.8"
  }
 },
 "nbformat": 4,
 "nbformat_minor": 5
}
