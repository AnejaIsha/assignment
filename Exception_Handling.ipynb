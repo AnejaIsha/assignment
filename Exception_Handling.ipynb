{
 "cells": [
  {
   "cell_type": "markdown",
   "id": "449249e0",
   "metadata": {},
   "source": [
    "# Problem 1"
   ]
  },
  {
   "cell_type": "code",
   "execution_count": 2,
   "id": "5fe30584",
   "metadata": {},
   "outputs": [
    {
     "name": "stdout",
     "output_type": "stream",
     "text": [
      "division by zero\n"
     ]
    }
   ],
   "source": [
    "def func_except() :\n",
    "    try :\n",
    "        x = 5 / 0  \n",
    "    except ZeroDivisionError as msg :\n",
    "        print(msg)\n",
    "        \n",
    "func_except()        "
   ]
  },
  {
   "cell_type": "markdown",
   "id": "6b4b7e37",
   "metadata": {},
   "source": [
    "# Problem 2"
   ]
  },
  {
   "cell_type": "code",
   "execution_count": 15,
   "id": "ee25963b",
   "metadata": {},
   "outputs": [
    {
     "name": "stdout",
     "output_type": "stream",
     "text": [
      "Americans  play Baseball\n",
      "\n",
      "Americans  play Cricket\n",
      "\n",
      "Americans  watch Baseball\n",
      "\n",
      "Americans  watch Cricket\n",
      "\n",
      "Indians play Baseball\n",
      "\n",
      "Indians play Cricket\n",
      "\n",
      "Indians watch Baseball\n",
      "\n",
      "Indians watch Cricket\n",
      "\n"
     ]
    }
   ],
   "source": [
    "def permutations() :\n",
    "    subjects=[\"Americans \",\"Indians\"]\n",
    "    verbs=[\"play\",\"watch\"]\n",
    "    objects=[\"Baseball\",\"Cricket\"]\n",
    "    output = []\n",
    "    \n",
    "    \n",
    "    for i in range(len(subjects)) :\n",
    "        sent = ''\n",
    "        for j in range(len(verbs)) :\n",
    "            for k in range(len(objects)) :\n",
    "                sent =   subjects[i] + ' ' + verbs[j] + ' '+  objects[k]\n",
    "                print(sent)\n",
    "                print()\n",
    "                \n",
    "       \n",
    "\n",
    "\n",
    "                \n",
    "permutations()             \n",
    "        "
   ]
  },
  {
   "cell_type": "code",
   "execution_count": null,
   "id": "3a77b45e",
   "metadata": {},
   "outputs": [],
   "source": []
  }
 ],
 "metadata": {
  "kernelspec": {
   "display_name": "Python 3",
   "language": "python",
   "name": "python3"
  },
  "language_info": {
   "codemirror_mode": {
    "name": "ipython",
    "version": 3
   },
   "file_extension": ".py",
   "mimetype": "text/x-python",
   "name": "python",
   "nbconvert_exporter": "python",
   "pygments_lexer": "ipython3",
   "version": "3.8.8"
  }
 },
 "nbformat": 4,
 "nbformat_minor": 5
}
