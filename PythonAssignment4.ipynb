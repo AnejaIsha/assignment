{
 "cells": [
  {
   "cell_type": "markdown",
   "id": "49538598",
   "metadata": {},
   "source": [
    "# Problem 1.1"
   ]
  },
  {
   "cell_type": "code",
   "execution_count": 59,
   "id": "9d5709d3",
   "metadata": {},
   "outputs": [
    {
     "name": "stdout",
     "output_type": "stream",
     "text": [
      "Enter the value of Side a 17\n",
      "Enter the value of Side b 37\n",
      "Enter the value of Side c 45\n",
      "49.5\n",
      "300.82 1\n"
     ]
    }
   ],
   "source": [
    "class area :\n",
    "    \n",
    "    def input_values(self) :\n",
    "        self.a = int(input('Enter the value of Side a '))\n",
    "        self.b = int(input('Enter the value of Side b '))\n",
    "        self.c = int(input('Enter the value of Side c '))\n",
    "\n",
    "    \n",
    "        \n",
    "class triangle(area) :\n",
    "    \n",
    "    def __init__(self,a,b,c) :\n",
    "        self.a = a\n",
    "        self.b = b\n",
    "        self.c = c\n",
    "        \n",
    "\n",
    "    \n",
    "    def areatriangle(self):\n",
    "        s = (self.a +self.b+ self.c) / 2\n",
    "        print(s)\n",
    "        artri = (s * (s - self.a) * (s -self.b) * (s - self.c)) ** 0.5\n",
    "        return artri\n",
    "            \n",
    "    \n",
    "        \n",
    "obj =  area() \n",
    "obj.input_values()\n",
    "ar = triangle(obj.a,obj.b,obj.c)\n",
    "print(round(ar.areatriangle(),2))\n",
    "\n",
    "\n"
   ]
  },
  {
   "cell_type": "markdown",
   "id": "c04d9630",
   "metadata": {},
   "source": [
    "# Problem 1.2"
   ]
  },
  {
   "cell_type": "code",
   "execution_count": 63,
   "id": "db9c6647",
   "metadata": {},
   "outputs": [
    {
     "name": "stdout",
     "output_type": "stream",
     "text": [
      "['word', 'isha']\n"
     ]
    }
   ],
   "source": [
    "def filter_long_words(l,n) :\n",
    "    output = [word for word in l if len(word) > n]\n",
    "    return output\n",
    "\n",
    "\n",
    "print(filter_long_words(['word','isha','to','no','Kia'],3) )  "
   ]
  },
  {
   "cell_type": "markdown",
   "id": "abb256e2",
   "metadata": {},
   "source": [
    "# Problem 2.1"
   ]
  },
  {
   "cell_type": "code",
   "execution_count": 66,
   "id": "682eced5",
   "metadata": {},
   "outputs": [
    {
     "name": "stdout",
     "output_type": "stream",
     "text": [
      "[4, 4, 2, 2, 3]\n"
     ]
    }
   ],
   "source": [
    "def len_words(l) :\n",
    "    output = [len(word) for word in l ]\n",
    "    return output\n",
    "\n",
    "\n",
    "print(len_words(['word','isha','to','no','Kia'] ))  "
   ]
  },
  {
   "cell_type": "markdown",
   "id": "4f63e133",
   "metadata": {},
   "source": [
    "# Problem 2.2"
   ]
  },
  {
   "cell_type": "code",
   "execution_count": 71,
   "id": "45aa60ae",
   "metadata": {},
   "outputs": [
    {
     "name": "stdout",
     "output_type": "stream",
     "text": [
      "True\n"
     ]
    }
   ],
   "source": [
    "isvowel = lambda x :  True if x in ['a','e','i','o','u'] else False\n",
    "print(isvowel('o'))"
   ]
  },
  {
   "cell_type": "code",
   "execution_count": null,
   "id": "a45d7eaf",
   "metadata": {},
   "outputs": [],
   "source": []
  }
 ],
 "metadata": {
  "kernelspec": {
   "display_name": "Python 3",
   "language": "python",
   "name": "python3"
  },
  "language_info": {
   "codemirror_mode": {
    "name": "ipython",
    "version": 3
   },
   "file_extension": ".py",
   "mimetype": "text/x-python",
   "name": "python",
   "nbconvert_exporter": "python",
   "pygments_lexer": "ipython3",
   "version": "3.8.8"
  }
 },
 "nbformat": 4,
 "nbformat_minor": 5
}
